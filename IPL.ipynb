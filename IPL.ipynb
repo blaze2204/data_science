{
  "nbformat": 4,
  "nbformat_minor": 0,
  "metadata": {
    "colab": {
      "provenance": [],
      "gpuType": "T4",
      "mount_file_id": "1IqNmDRLL4W91fx80qMXKMYaaKvLtAxSl",
      "authorship_tag": "ABX9TyOiXC5u77xdEobS4QYZVTme",
      "include_colab_link": true
    },
    "kernelspec": {
      "name": "python3",
      "display_name": "Python 3"
    },
    "language_info": {
      "name": "python"
    }
  },
  "cells": [
    {
      "cell_type": "markdown",
      "metadata": {
        "id": "view-in-github",
        "colab_type": "text"
      },
      "source": [
        "<a href=\"https://colab.research.google.com/github/blaze2204/data_science/blob/main/IPL.ipynb\" target=\"_parent\"><img src=\"https://colab.research.google.com/assets/colab-badge.svg\" alt=\"Open In Colab\"/></a>"
      ]
    },
    {
      "cell_type": "code",
      "execution_count": 1,
      "metadata": {
        "id": "lo1yMwvTC3UX"
      },
      "outputs": [],
      "source": [
        "import pandas as pd\n",
        "import numpy as np\n",
        "import matplotlib.pyplot as plt\n",
        "import warnings\n",
        "warnings.filterwarnings('ignore')"
      ]
    },
    {
      "cell_type": "code",
      "source": [
        "ipl_df = pd.read_csv(\"all_season_summary.csv\")"
      ],
      "metadata": {
        "id": "jocuMW_QC_iC"
      },
      "execution_count": 2,
      "outputs": []
    },
    {
      "cell_type": "code",
      "source": [
        "ipl_df.head()"
      ],
      "metadata": {
        "colab": {
          "base_uri": "https://localhost:8080/",
          "height": 664
        },
        "id": "tc8hTKeyENc9",
        "outputId": "b5a258ca-4101-4cf6-c849-520888523fbe"
      },
      "execution_count": 3,
      "outputs": [
        {
          "output_type": "execute_result",
          "data": {
            "text/plain": [
              "   season       id                                         name  short_name  \\\n",
              "0    2022  1304047  Chennai Super Kings v Kolkata Knight Riders   CSK v KKR   \n",
              "1    2022  1304048              Delhi Capitals v Mumbai Indians     DC v MI   \n",
              "2    2022  1304049   Punjab Kings v Royal Challengers Bangalore  PBKS v RCB   \n",
              "3    2022  1304050        Gujarat Titans v Lucknow Super Giants    GT v LSG   \n",
              "4    2022  1304051       Sunrisers Hyderabad v Rajasthan Royals    SRH v RR   \n",
              "\n",
              "                                         description home_team away_team  \\\n",
              "0  1st Match (N), Indian Premier League at Mumbai...       CSK       KKR   \n",
              "1  2nd Match (D/N), Indian Premier League at Mumb...        DC        MI   \n",
              "2  3rd Match (N), Indian Premier League at Navi M...      PBKS       RCB   \n",
              "3  4th Match (N), Indian Premier League at Mumbai...        GT       LSG   \n",
              "4  5th Match (N), Indian Premier League at Pune, ...       SRH        RR   \n",
              "\n",
              "  toss_won    decision 1st_inning_score  ...  \\\n",
              "0      KKR  BOWL FIRST            131/5  ...   \n",
              "1       DC  BOWL FIRST            177/5  ...   \n",
              "2     KXIP  BOWL FIRST            205/2  ...   \n",
              "3       GT  BOWL FIRST            158/6  ...   \n",
              "4      SRH  BOWL FIRST            210/6  ...   \n",
              "\n",
              "                                         home_playx1  \\\n",
              "0  Ruturaj Gaikwad (UKN),Devon Conway (UKN),Robin...   \n",
              "1  Prithvi Shaw (UKN),Tim Seifert (UKN),Mandeep S...   \n",
              "2  Mayank Agarwal (UKN),Shikhar Dhawan (UKN),Bhan...   \n",
              "3  Shubman Gill (UKN),Matthew Wade (WK),Vijay Sha...   \n",
              "4  Kane Williamson (UKN),Abhishek Sharma (AR),Rah...   \n",
              "\n",
              "                                         away_playx1  \\\n",
              "0  Ajinkya Rahane (UKN),Venkatesh Iyer (AR),Nitis...   \n",
              "1  Rohit Sharma (UKN),Ishan Kishan (WK),Anmolpree...   \n",
              "2  Faf du Plessis (UKN),Anuj Rawat (UKN),Virat Ko...   \n",
              "3  KL Rahul (UKN),Quinton de Kock (WK),Evin Lewis...   \n",
              "4  Jos Buttler (UKN),Yashasvi Jaiswal (UKN),Sanju...   \n",
              "\n",
              "                away_key_batsman                    away_key_bowler  \\\n",
              "0    Ajinkya Rahane,Sam Billings     Umesh Yadav,Varun Chakravarthy   \n",
              "1      Ishan Kishan,Rohit Sharma        Basil Thampi,Murugan Ashwin   \n",
              "2     Faf du Plessis,Virat Kohli       Mohammed Siraj,Harshal Patel   \n",
              "3      Deepak Hooda,Ayush Badoni  Dushmantha Chameera,Krunal Pandya   \n",
              "4  Sanju Samson,Devdutt Padikkal   Yuzvendra Chahal,Prasidh Krishna   \n",
              "\n",
              "                                        match_days          umpire1  \\\n",
              "0      26 March 2022 - night match (20-over match)   Anil Chaudhary   \n",
              "1  27 March 2022 - day/night match (20-over match)    Saiyed Khalid   \n",
              "2      27 March 2022 - night match (20-over match)   Yeshwant Barde   \n",
              "3      28 March 2022 - night match (20-over match)  Pashchim Pathak   \n",
              "4      29 March 2022 - night match (20-over match)     Ulhas Gandhe   \n",
              "\n",
              "           umpire2              tv_umpire         referee  \\\n",
              "0      Nitin Menon        Virender Sharma     Manu Nayyar   \n",
              "1       Rod Tucker  Jayaraman Madanagopal   Prakash Bhatt   \n",
              "2      Nitin Menon         Anil Chaudhary     Manu Nayyar   \n",
              "3  Virender Sharma             Rod Tucker  Daniel Manohar   \n",
              "4   Bruce Oxenford  KN Ananthapadmanabhan    Shakti Singh   \n",
              "\n",
              "          reserve_umpire  \n",
              "0  Chirra Ravikanthreddy  \n",
              "1           Nitin Pandit  \n",
              "2           Rohan Pandit  \n",
              "3          Sadashiv Iyer  \n",
              "4      Saidharshan Kumar  \n",
              "\n",
              "[5 rows x 45 columns]"
            ],
            "text/html": [
              "\n",
              "  <div id=\"df-3a4d279f-23fd-44a9-894c-fc22d9b1c49c\">\n",
              "    <div class=\"colab-df-container\">\n",
              "      <div>\n",
              "<style scoped>\n",
              "    .dataframe tbody tr th:only-of-type {\n",
              "        vertical-align: middle;\n",
              "    }\n",
              "\n",
              "    .dataframe tbody tr th {\n",
              "        vertical-align: top;\n",
              "    }\n",
              "\n",
              "    .dataframe thead th {\n",
              "        text-align: right;\n",
              "    }\n",
              "</style>\n",
              "<table border=\"1\" class=\"dataframe\">\n",
              "  <thead>\n",
              "    <tr style=\"text-align: right;\">\n",
              "      <th></th>\n",
              "      <th>season</th>\n",
              "      <th>id</th>\n",
              "      <th>name</th>\n",
              "      <th>short_name</th>\n",
              "      <th>description</th>\n",
              "      <th>home_team</th>\n",
              "      <th>away_team</th>\n",
              "      <th>toss_won</th>\n",
              "      <th>decision</th>\n",
              "      <th>1st_inning_score</th>\n",
              "      <th>...</th>\n",
              "      <th>home_playx1</th>\n",
              "      <th>away_playx1</th>\n",
              "      <th>away_key_batsman</th>\n",
              "      <th>away_key_bowler</th>\n",
              "      <th>match_days</th>\n",
              "      <th>umpire1</th>\n",
              "      <th>umpire2</th>\n",
              "      <th>tv_umpire</th>\n",
              "      <th>referee</th>\n",
              "      <th>reserve_umpire</th>\n",
              "    </tr>\n",
              "  </thead>\n",
              "  <tbody>\n",
              "    <tr>\n",
              "      <th>0</th>\n",
              "      <td>2022</td>\n",
              "      <td>1304047</td>\n",
              "      <td>Chennai Super Kings v Kolkata Knight Riders</td>\n",
              "      <td>CSK v KKR</td>\n",
              "      <td>1st Match (N), Indian Premier League at Mumbai...</td>\n",
              "      <td>CSK</td>\n",
              "      <td>KKR</td>\n",
              "      <td>KKR</td>\n",
              "      <td>BOWL FIRST</td>\n",
              "      <td>131/5</td>\n",
              "      <td>...</td>\n",
              "      <td>Ruturaj Gaikwad (UKN),Devon Conway (UKN),Robin...</td>\n",
              "      <td>Ajinkya Rahane (UKN),Venkatesh Iyer (AR),Nitis...</td>\n",
              "      <td>Ajinkya Rahane,Sam Billings</td>\n",
              "      <td>Umesh Yadav,Varun Chakravarthy</td>\n",
              "      <td>26 March 2022 - night match (20-over match)</td>\n",
              "      <td>Anil Chaudhary</td>\n",
              "      <td>Nitin Menon</td>\n",
              "      <td>Virender Sharma</td>\n",
              "      <td>Manu Nayyar</td>\n",
              "      <td>Chirra Ravikanthreddy</td>\n",
              "    </tr>\n",
              "    <tr>\n",
              "      <th>1</th>\n",
              "      <td>2022</td>\n",
              "      <td>1304048</td>\n",
              "      <td>Delhi Capitals v Mumbai Indians</td>\n",
              "      <td>DC v MI</td>\n",
              "      <td>2nd Match (D/N), Indian Premier League at Mumb...</td>\n",
              "      <td>DC</td>\n",
              "      <td>MI</td>\n",
              "      <td>DC</td>\n",
              "      <td>BOWL FIRST</td>\n",
              "      <td>177/5</td>\n",
              "      <td>...</td>\n",
              "      <td>Prithvi Shaw (UKN),Tim Seifert (UKN),Mandeep S...</td>\n",
              "      <td>Rohit Sharma (UKN),Ishan Kishan (WK),Anmolpree...</td>\n",
              "      <td>Ishan Kishan,Rohit Sharma</td>\n",
              "      <td>Basil Thampi,Murugan Ashwin</td>\n",
              "      <td>27 March 2022 - day/night match (20-over match)</td>\n",
              "      <td>Saiyed Khalid</td>\n",
              "      <td>Rod Tucker</td>\n",
              "      <td>Jayaraman Madanagopal</td>\n",
              "      <td>Prakash Bhatt</td>\n",
              "      <td>Nitin Pandit</td>\n",
              "    </tr>\n",
              "    <tr>\n",
              "      <th>2</th>\n",
              "      <td>2022</td>\n",
              "      <td>1304049</td>\n",
              "      <td>Punjab Kings v Royal Challengers Bangalore</td>\n",
              "      <td>PBKS v RCB</td>\n",
              "      <td>3rd Match (N), Indian Premier League at Navi M...</td>\n",
              "      <td>PBKS</td>\n",
              "      <td>RCB</td>\n",
              "      <td>KXIP</td>\n",
              "      <td>BOWL FIRST</td>\n",
              "      <td>205/2</td>\n",
              "      <td>...</td>\n",
              "      <td>Mayank Agarwal (UKN),Shikhar Dhawan (UKN),Bhan...</td>\n",
              "      <td>Faf du Plessis (UKN),Anuj Rawat (UKN),Virat Ko...</td>\n",
              "      <td>Faf du Plessis,Virat Kohli</td>\n",
              "      <td>Mohammed Siraj,Harshal Patel</td>\n",
              "      <td>27 March 2022 - night match (20-over match)</td>\n",
              "      <td>Yeshwant Barde</td>\n",
              "      <td>Nitin Menon</td>\n",
              "      <td>Anil Chaudhary</td>\n",
              "      <td>Manu Nayyar</td>\n",
              "      <td>Rohan Pandit</td>\n",
              "    </tr>\n",
              "    <tr>\n",
              "      <th>3</th>\n",
              "      <td>2022</td>\n",
              "      <td>1304050</td>\n",
              "      <td>Gujarat Titans v Lucknow Super Giants</td>\n",
              "      <td>GT v LSG</td>\n",
              "      <td>4th Match (N), Indian Premier League at Mumbai...</td>\n",
              "      <td>GT</td>\n",
              "      <td>LSG</td>\n",
              "      <td>GT</td>\n",
              "      <td>BOWL FIRST</td>\n",
              "      <td>158/6</td>\n",
              "      <td>...</td>\n",
              "      <td>Shubman Gill (UKN),Matthew Wade (WK),Vijay Sha...</td>\n",
              "      <td>KL Rahul (UKN),Quinton de Kock (WK),Evin Lewis...</td>\n",
              "      <td>Deepak Hooda,Ayush Badoni</td>\n",
              "      <td>Dushmantha Chameera,Krunal Pandya</td>\n",
              "      <td>28 March 2022 - night match (20-over match)</td>\n",
              "      <td>Pashchim Pathak</td>\n",
              "      <td>Virender Sharma</td>\n",
              "      <td>Rod Tucker</td>\n",
              "      <td>Daniel Manohar</td>\n",
              "      <td>Sadashiv Iyer</td>\n",
              "    </tr>\n",
              "    <tr>\n",
              "      <th>4</th>\n",
              "      <td>2022</td>\n",
              "      <td>1304051</td>\n",
              "      <td>Sunrisers Hyderabad v Rajasthan Royals</td>\n",
              "      <td>SRH v RR</td>\n",
              "      <td>5th Match (N), Indian Premier League at Pune, ...</td>\n",
              "      <td>SRH</td>\n",
              "      <td>RR</td>\n",
              "      <td>SRH</td>\n",
              "      <td>BOWL FIRST</td>\n",
              "      <td>210/6</td>\n",
              "      <td>...</td>\n",
              "      <td>Kane Williamson (UKN),Abhishek Sharma (AR),Rah...</td>\n",
              "      <td>Jos Buttler (UKN),Yashasvi Jaiswal (UKN),Sanju...</td>\n",
              "      <td>Sanju Samson,Devdutt Padikkal</td>\n",
              "      <td>Yuzvendra Chahal,Prasidh Krishna</td>\n",
              "      <td>29 March 2022 - night match (20-over match)</td>\n",
              "      <td>Ulhas Gandhe</td>\n",
              "      <td>Bruce Oxenford</td>\n",
              "      <td>KN Ananthapadmanabhan</td>\n",
              "      <td>Shakti Singh</td>\n",
              "      <td>Saidharshan Kumar</td>\n",
              "    </tr>\n",
              "  </tbody>\n",
              "</table>\n",
              "<p>5 rows × 45 columns</p>\n",
              "</div>\n",
              "      <button class=\"colab-df-convert\" onclick=\"convertToInteractive('df-3a4d279f-23fd-44a9-894c-fc22d9b1c49c')\"\n",
              "              title=\"Convert this dataframe to an interactive table.\"\n",
              "              style=\"display:none;\">\n",
              "        \n",
              "  <svg xmlns=\"http://www.w3.org/2000/svg\" height=\"24px\"viewBox=\"0 0 24 24\"\n",
              "       width=\"24px\">\n",
              "    <path d=\"M0 0h24v24H0V0z\" fill=\"none\"/>\n",
              "    <path d=\"M18.56 5.44l.94 2.06.94-2.06 2.06-.94-2.06-.94-.94-2.06-.94 2.06-2.06.94zm-11 1L8.5 8.5l.94-2.06 2.06-.94-2.06-.94L8.5 2.5l-.94 2.06-2.06.94zm10 10l.94 2.06.94-2.06 2.06-.94-2.06-.94-.94-2.06-.94 2.06-2.06.94z\"/><path d=\"M17.41 7.96l-1.37-1.37c-.4-.4-.92-.59-1.43-.59-.52 0-1.04.2-1.43.59L10.3 9.45l-7.72 7.72c-.78.78-.78 2.05 0 2.83L4 21.41c.39.39.9.59 1.41.59.51 0 1.02-.2 1.41-.59l7.78-7.78 2.81-2.81c.8-.78.8-2.07 0-2.86zM5.41 20L4 18.59l7.72-7.72 1.47 1.35L5.41 20z\"/>\n",
              "  </svg>\n",
              "      </button>\n",
              "      \n",
              "  <style>\n",
              "    .colab-df-container {\n",
              "      display:flex;\n",
              "      flex-wrap:wrap;\n",
              "      gap: 12px;\n",
              "    }\n",
              "\n",
              "    .colab-df-convert {\n",
              "      background-color: #E8F0FE;\n",
              "      border: none;\n",
              "      border-radius: 50%;\n",
              "      cursor: pointer;\n",
              "      display: none;\n",
              "      fill: #1967D2;\n",
              "      height: 32px;\n",
              "      padding: 0 0 0 0;\n",
              "      width: 32px;\n",
              "    }\n",
              "\n",
              "    .colab-df-convert:hover {\n",
              "      background-color: #E2EBFA;\n",
              "      box-shadow: 0px 1px 2px rgba(60, 64, 67, 0.3), 0px 1px 3px 1px rgba(60, 64, 67, 0.15);\n",
              "      fill: #174EA6;\n",
              "    }\n",
              "\n",
              "    [theme=dark] .colab-df-convert {\n",
              "      background-color: #3B4455;\n",
              "      fill: #D2E3FC;\n",
              "    }\n",
              "\n",
              "    [theme=dark] .colab-df-convert:hover {\n",
              "      background-color: #434B5C;\n",
              "      box-shadow: 0px 1px 3px 1px rgba(0, 0, 0, 0.15);\n",
              "      filter: drop-shadow(0px 1px 2px rgba(0, 0, 0, 0.3));\n",
              "      fill: #FFFFFF;\n",
              "    }\n",
              "  </style>\n",
              "\n",
              "      <script>\n",
              "        const buttonEl =\n",
              "          document.querySelector('#df-3a4d279f-23fd-44a9-894c-fc22d9b1c49c button.colab-df-convert');\n",
              "        buttonEl.style.display =\n",
              "          google.colab.kernel.accessAllowed ? 'block' : 'none';\n",
              "\n",
              "        async function convertToInteractive(key) {\n",
              "          const element = document.querySelector('#df-3a4d279f-23fd-44a9-894c-fc22d9b1c49c');\n",
              "          const dataTable =\n",
              "            await google.colab.kernel.invokeFunction('convertToInteractive',\n",
              "                                                     [key], {});\n",
              "          if (!dataTable) return;\n",
              "\n",
              "          const docLinkHtml = 'Like what you see? Visit the ' +\n",
              "            '<a target=\"_blank\" href=https://colab.research.google.com/notebooks/data_table.ipynb>data table notebook</a>'\n",
              "            + ' to learn more about interactive tables.';\n",
              "          element.innerHTML = '';\n",
              "          dataTable['output_type'] = 'display_data';\n",
              "          await google.colab.output.renderOutput(dataTable, element);\n",
              "          const docLink = document.createElement('div');\n",
              "          docLink.innerHTML = docLinkHtml;\n",
              "          element.appendChild(docLink);\n",
              "        }\n",
              "      </script>\n",
              "    </div>\n",
              "  </div>\n",
              "  "
            ]
          },
          "metadata": {},
          "execution_count": 3
        }
      ]
    },
    {
      "cell_type": "code",
      "source": [
        "ipl_df.info()"
      ],
      "metadata": {
        "colab": {
          "base_uri": "https://localhost:8080/"
        },
        "id": "J75mzcXaEO0x",
        "outputId": "7720fc28-713a-40b4-f985-da6305119289"
      },
      "execution_count": 4,
      "outputs": [
        {
          "output_type": "stream",
          "name": "stdout",
          "text": [
            "<class 'pandas.core.frame.DataFrame'>\n",
            "RangeIndex: 958 entries, 0 to 957\n",
            "Data columns (total 45 columns):\n",
            " #   Column            Non-Null Count  Dtype  \n",
            "---  ------            --------------  -----  \n",
            " 0   season            958 non-null    int64  \n",
            " 1   id                958 non-null    int64  \n",
            " 2   name              958 non-null    object \n",
            " 3   short_name        958 non-null    object \n",
            " 4   description       958 non-null    object \n",
            " 5   home_team         958 non-null    object \n",
            " 6   away_team         958 non-null    object \n",
            " 7   toss_won          958 non-null    object \n",
            " 8   decision          958 non-null    object \n",
            " 9   1st_inning_score  950 non-null    object \n",
            " 10  2nd_inning_score  948 non-null    object \n",
            " 11  home_score        950 non-null    object \n",
            " 12  away_score        948 non-null    object \n",
            " 13  winner            958 non-null    object \n",
            " 14  result            958 non-null    object \n",
            " 15  start_date        958 non-null    object \n",
            " 16  end_date          958 non-null    object \n",
            " 17  venue_id          958 non-null    int64  \n",
            " 18  venue_name        958 non-null    object \n",
            " 19  home_captain      958 non-null    object \n",
            " 20  away_captain      958 non-null    object \n",
            " 21  pom               958 non-null    object \n",
            " 22  points            958 non-null    object \n",
            " 23  super_over        958 non-null    bool   \n",
            " 24  home_overs        950 non-null    float64\n",
            " 25  home_runs         950 non-null    float64\n",
            " 26  home_wickets      950 non-null    float64\n",
            " 27  home_boundaries   950 non-null    float64\n",
            " 28  away_overs        948 non-null    float64\n",
            " 29  away_runs         948 non-null    float64\n",
            " 30  away_wickets      948 non-null    float64\n",
            " 31  away_boundaries   948 non-null    float64\n",
            " 32  highlights        936 non-null    object \n",
            " 33  home_key_batsman  950 non-null    object \n",
            " 34  home_key_bowler   937 non-null    object \n",
            " 35  home_playx1       958 non-null    object \n",
            " 36  away_playx1       958 non-null    object \n",
            " 37  away_key_batsman  948 non-null    object \n",
            " 38  away_key_bowler   939 non-null    object \n",
            " 39  match_days        958 non-null    object \n",
            " 40  umpire1           958 non-null    object \n",
            " 41  umpire2           958 non-null    object \n",
            " 42  tv_umpire         958 non-null    object \n",
            " 43  referee           958 non-null    object \n",
            " 44  reserve_umpire    958 non-null    object \n",
            "dtypes: bool(1), float64(8), int64(3), object(33)\n",
            "memory usage: 330.4+ KB\n"
          ]
        }
      ]
    },
    {
      "cell_type": "code",
      "source": [
        "ipl_df['home_team_wins_flag'] = np.where(ipl_df['home_team']==ipl_df['winner'],1,0)\n",
        "ipl_df['toss_wins_flag'] = np.where(ipl_df['toss_won']==ipl_df['winner'],1,0)"
      ],
      "metadata": {
        "id": "5GHrxmV9Fewp"
      },
      "execution_count": 5,
      "outputs": []
    },
    {
      "cell_type": "code",
      "source": [
        "ipl_df['home_team_wins_flag'].value_counts()"
      ],
      "metadata": {
        "colab": {
          "base_uri": "https://localhost:8080/"
        },
        "id": "7FpztpwSGEKf",
        "outputId": "8b45fc45-6c72-47ba-b38c-96aa0e6a6d1b"
      },
      "execution_count": 6,
      "outputs": [
        {
          "output_type": "execute_result",
          "data": {
            "text/plain": [
              "1    510\n",
              "0    448\n",
              "Name: home_team_wins_flag, dtype: int64"
            ]
          },
          "metadata": {},
          "execution_count": 6
        }
      ]
    },
    {
      "cell_type": "code",
      "source": [
        "ipl_df['toss_wins_flag'].value_counts()"
      ],
      "metadata": {
        "colab": {
          "base_uri": "https://localhost:8080/"
        },
        "id": "24uvGZ3vGlnT",
        "outputId": "53610ae4-f308-4f59-8efe-181185756331"
      },
      "execution_count": 7,
      "outputs": [
        {
          "output_type": "execute_result",
          "data": {
            "text/plain": [
              "1    490\n",
              "0    468\n",
              "Name: toss_wins_flag, dtype: int64"
            ]
          },
          "metadata": {},
          "execution_count": 7
        }
      ]
    },
    {
      "cell_type": "code",
      "source": [
        "ipl_df[['home_team_wins_flag','toss_wins_flag']].corr()"
      ],
      "metadata": {
        "colab": {
          "base_uri": "https://localhost:8080/",
          "height": 112
        },
        "id": "iqIppMWdJzzd",
        "outputId": "96792e5b-db61-4624-c6cc-42654cda89a3"
      },
      "execution_count": 8,
      "outputs": [
        {
          "output_type": "execute_result",
          "data": {
            "text/plain": [
              "                     home_team_wins_flag  toss_wins_flag\n",
              "home_team_wins_flag             1.000000        0.000603\n",
              "toss_wins_flag                  0.000603        1.000000"
            ],
            "text/html": [
              "\n",
              "  <div id=\"df-21f0e0d5-f614-49ac-910a-085b528b70e1\">\n",
              "    <div class=\"colab-df-container\">\n",
              "      <div>\n",
              "<style scoped>\n",
              "    .dataframe tbody tr th:only-of-type {\n",
              "        vertical-align: middle;\n",
              "    }\n",
              "\n",
              "    .dataframe tbody tr th {\n",
              "        vertical-align: top;\n",
              "    }\n",
              "\n",
              "    .dataframe thead th {\n",
              "        text-align: right;\n",
              "    }\n",
              "</style>\n",
              "<table border=\"1\" class=\"dataframe\">\n",
              "  <thead>\n",
              "    <tr style=\"text-align: right;\">\n",
              "      <th></th>\n",
              "      <th>home_team_wins_flag</th>\n",
              "      <th>toss_wins_flag</th>\n",
              "    </tr>\n",
              "  </thead>\n",
              "  <tbody>\n",
              "    <tr>\n",
              "      <th>home_team_wins_flag</th>\n",
              "      <td>1.000000</td>\n",
              "      <td>0.000603</td>\n",
              "    </tr>\n",
              "    <tr>\n",
              "      <th>toss_wins_flag</th>\n",
              "      <td>0.000603</td>\n",
              "      <td>1.000000</td>\n",
              "    </tr>\n",
              "  </tbody>\n",
              "</table>\n",
              "</div>\n",
              "      <button class=\"colab-df-convert\" onclick=\"convertToInteractive('df-21f0e0d5-f614-49ac-910a-085b528b70e1')\"\n",
              "              title=\"Convert this dataframe to an interactive table.\"\n",
              "              style=\"display:none;\">\n",
              "        \n",
              "  <svg xmlns=\"http://www.w3.org/2000/svg\" height=\"24px\"viewBox=\"0 0 24 24\"\n",
              "       width=\"24px\">\n",
              "    <path d=\"M0 0h24v24H0V0z\" fill=\"none\"/>\n",
              "    <path d=\"M18.56 5.44l.94 2.06.94-2.06 2.06-.94-2.06-.94-.94-2.06-.94 2.06-2.06.94zm-11 1L8.5 8.5l.94-2.06 2.06-.94-2.06-.94L8.5 2.5l-.94 2.06-2.06.94zm10 10l.94 2.06.94-2.06 2.06-.94-2.06-.94-.94-2.06-.94 2.06-2.06.94z\"/><path d=\"M17.41 7.96l-1.37-1.37c-.4-.4-.92-.59-1.43-.59-.52 0-1.04.2-1.43.59L10.3 9.45l-7.72 7.72c-.78.78-.78 2.05 0 2.83L4 21.41c.39.39.9.59 1.41.59.51 0 1.02-.2 1.41-.59l7.78-7.78 2.81-2.81c.8-.78.8-2.07 0-2.86zM5.41 20L4 18.59l7.72-7.72 1.47 1.35L5.41 20z\"/>\n",
              "  </svg>\n",
              "      </button>\n",
              "      \n",
              "  <style>\n",
              "    .colab-df-container {\n",
              "      display:flex;\n",
              "      flex-wrap:wrap;\n",
              "      gap: 12px;\n",
              "    }\n",
              "\n",
              "    .colab-df-convert {\n",
              "      background-color: #E8F0FE;\n",
              "      border: none;\n",
              "      border-radius: 50%;\n",
              "      cursor: pointer;\n",
              "      display: none;\n",
              "      fill: #1967D2;\n",
              "      height: 32px;\n",
              "      padding: 0 0 0 0;\n",
              "      width: 32px;\n",
              "    }\n",
              "\n",
              "    .colab-df-convert:hover {\n",
              "      background-color: #E2EBFA;\n",
              "      box-shadow: 0px 1px 2px rgba(60, 64, 67, 0.3), 0px 1px 3px 1px rgba(60, 64, 67, 0.15);\n",
              "      fill: #174EA6;\n",
              "    }\n",
              "\n",
              "    [theme=dark] .colab-df-convert {\n",
              "      background-color: #3B4455;\n",
              "      fill: #D2E3FC;\n",
              "    }\n",
              "\n",
              "    [theme=dark] .colab-df-convert:hover {\n",
              "      background-color: #434B5C;\n",
              "      box-shadow: 0px 1px 3px 1px rgba(0, 0, 0, 0.15);\n",
              "      filter: drop-shadow(0px 1px 2px rgba(0, 0, 0, 0.3));\n",
              "      fill: #FFFFFF;\n",
              "    }\n",
              "  </style>\n",
              "\n",
              "      <script>\n",
              "        const buttonEl =\n",
              "          document.querySelector('#df-21f0e0d5-f614-49ac-910a-085b528b70e1 button.colab-df-convert');\n",
              "        buttonEl.style.display =\n",
              "          google.colab.kernel.accessAllowed ? 'block' : 'none';\n",
              "\n",
              "        async function convertToInteractive(key) {\n",
              "          const element = document.querySelector('#df-21f0e0d5-f614-49ac-910a-085b528b70e1');\n",
              "          const dataTable =\n",
              "            await google.colab.kernel.invokeFunction('convertToInteractive',\n",
              "                                                     [key], {});\n",
              "          if (!dataTable) return;\n",
              "\n",
              "          const docLinkHtml = 'Like what you see? Visit the ' +\n",
              "            '<a target=\"_blank\" href=https://colab.research.google.com/notebooks/data_table.ipynb>data table notebook</a>'\n",
              "            + ' to learn more about interactive tables.';\n",
              "          element.innerHTML = '';\n",
              "          dataTable['output_type'] = 'display_data';\n",
              "          await google.colab.output.renderOutput(dataTable, element);\n",
              "          const docLink = document.createElement('div');\n",
              "          docLink.innerHTML = docLinkHtml;\n",
              "          element.appendChild(docLink);\n",
              "        }\n",
              "      </script>\n",
              "    </div>\n",
              "  </div>\n",
              "  "
            ]
          },
          "metadata": {},
          "execution_count": 8
        }
      ]
    },
    {
      "cell_type": "code",
      "source": [
        "ipl_df_2 = ipl_df.groupby('season').agg({'home_team_wins_flag':'sum','toss_wins_flag':'sum','id':'count'}).reset_index()"
      ],
      "metadata": {
        "id": "h5lsjHlkIC5j"
      },
      "execution_count": 9,
      "outputs": []
    },
    {
      "cell_type": "code",
      "source": [
        "ipl_df_2['per_home_wins']= ipl_df_2['home_team_wins_flag']/ipl_df_2['id']\n",
        "ipl_df_2['per_toss_wins']= ipl_df_2['toss_wins_flag']/ipl_df_2['id']"
      ],
      "metadata": {
        "id": "JybgTYF5IX5w"
      },
      "execution_count": 10,
      "outputs": []
    },
    {
      "cell_type": "code",
      "source": [
        "ipl_df_2.head(6)"
      ],
      "metadata": {
        "colab": {
          "base_uri": "https://localhost:8080/",
          "height": 238
        },
        "id": "kIf8XeC1Kcsf",
        "outputId": "54212239-dbc6-4653-dd3c-0c04acddb05c"
      },
      "execution_count": 11,
      "outputs": [
        {
          "output_type": "execute_result",
          "data": {
            "text/plain": [
              "   season  home_team_wins_flag  toss_wins_flag  id  per_home_wins  \\\n",
              "0    2008                   30              28  59       0.508475   \n",
              "1    2009                   33              34  59       0.559322   \n",
              "2    2010                   34              32  60       0.566667   \n",
              "3    2011                   39              38  74       0.527027   \n",
              "4    2012                   33              33  76       0.434211   \n",
              "5    2013                   54              36  76       0.710526   \n",
              "\n",
              "   per_toss_wins  \n",
              "0       0.474576  \n",
              "1       0.576271  \n",
              "2       0.533333  \n",
              "3       0.513514  \n",
              "4       0.434211  \n",
              "5       0.473684  "
            ],
            "text/html": [
              "\n",
              "  <div id=\"df-f856f994-9a6e-4f70-a647-1889c95bc213\">\n",
              "    <div class=\"colab-df-container\">\n",
              "      <div>\n",
              "<style scoped>\n",
              "    .dataframe tbody tr th:only-of-type {\n",
              "        vertical-align: middle;\n",
              "    }\n",
              "\n",
              "    .dataframe tbody tr th {\n",
              "        vertical-align: top;\n",
              "    }\n",
              "\n",
              "    .dataframe thead th {\n",
              "        text-align: right;\n",
              "    }\n",
              "</style>\n",
              "<table border=\"1\" class=\"dataframe\">\n",
              "  <thead>\n",
              "    <tr style=\"text-align: right;\">\n",
              "      <th></th>\n",
              "      <th>season</th>\n",
              "      <th>home_team_wins_flag</th>\n",
              "      <th>toss_wins_flag</th>\n",
              "      <th>id</th>\n",
              "      <th>per_home_wins</th>\n",
              "      <th>per_toss_wins</th>\n",
              "    </tr>\n",
              "  </thead>\n",
              "  <tbody>\n",
              "    <tr>\n",
              "      <th>0</th>\n",
              "      <td>2008</td>\n",
              "      <td>30</td>\n",
              "      <td>28</td>\n",
              "      <td>59</td>\n",
              "      <td>0.508475</td>\n",
              "      <td>0.474576</td>\n",
              "    </tr>\n",
              "    <tr>\n",
              "      <th>1</th>\n",
              "      <td>2009</td>\n",
              "      <td>33</td>\n",
              "      <td>34</td>\n",
              "      <td>59</td>\n",
              "      <td>0.559322</td>\n",
              "      <td>0.576271</td>\n",
              "    </tr>\n",
              "    <tr>\n",
              "      <th>2</th>\n",
              "      <td>2010</td>\n",
              "      <td>34</td>\n",
              "      <td>32</td>\n",
              "      <td>60</td>\n",
              "      <td>0.566667</td>\n",
              "      <td>0.533333</td>\n",
              "    </tr>\n",
              "    <tr>\n",
              "      <th>3</th>\n",
              "      <td>2011</td>\n",
              "      <td>39</td>\n",
              "      <td>38</td>\n",
              "      <td>74</td>\n",
              "      <td>0.527027</td>\n",
              "      <td>0.513514</td>\n",
              "    </tr>\n",
              "    <tr>\n",
              "      <th>4</th>\n",
              "      <td>2012</td>\n",
              "      <td>33</td>\n",
              "      <td>33</td>\n",
              "      <td>76</td>\n",
              "      <td>0.434211</td>\n",
              "      <td>0.434211</td>\n",
              "    </tr>\n",
              "    <tr>\n",
              "      <th>5</th>\n",
              "      <td>2013</td>\n",
              "      <td>54</td>\n",
              "      <td>36</td>\n",
              "      <td>76</td>\n",
              "      <td>0.710526</td>\n",
              "      <td>0.473684</td>\n",
              "    </tr>\n",
              "  </tbody>\n",
              "</table>\n",
              "</div>\n",
              "      <button class=\"colab-df-convert\" onclick=\"convertToInteractive('df-f856f994-9a6e-4f70-a647-1889c95bc213')\"\n",
              "              title=\"Convert this dataframe to an interactive table.\"\n",
              "              style=\"display:none;\">\n",
              "        \n",
              "  <svg xmlns=\"http://www.w3.org/2000/svg\" height=\"24px\"viewBox=\"0 0 24 24\"\n",
              "       width=\"24px\">\n",
              "    <path d=\"M0 0h24v24H0V0z\" fill=\"none\"/>\n",
              "    <path d=\"M18.56 5.44l.94 2.06.94-2.06 2.06-.94-2.06-.94-.94-2.06-.94 2.06-2.06.94zm-11 1L8.5 8.5l.94-2.06 2.06-.94-2.06-.94L8.5 2.5l-.94 2.06-2.06.94zm10 10l.94 2.06.94-2.06 2.06-.94-2.06-.94-.94-2.06-.94 2.06-2.06.94z\"/><path d=\"M17.41 7.96l-1.37-1.37c-.4-.4-.92-.59-1.43-.59-.52 0-1.04.2-1.43.59L10.3 9.45l-7.72 7.72c-.78.78-.78 2.05 0 2.83L4 21.41c.39.39.9.59 1.41.59.51 0 1.02-.2 1.41-.59l7.78-7.78 2.81-2.81c.8-.78.8-2.07 0-2.86zM5.41 20L4 18.59l7.72-7.72 1.47 1.35L5.41 20z\"/>\n",
              "  </svg>\n",
              "      </button>\n",
              "      \n",
              "  <style>\n",
              "    .colab-df-container {\n",
              "      display:flex;\n",
              "      flex-wrap:wrap;\n",
              "      gap: 12px;\n",
              "    }\n",
              "\n",
              "    .colab-df-convert {\n",
              "      background-color: #E8F0FE;\n",
              "      border: none;\n",
              "      border-radius: 50%;\n",
              "      cursor: pointer;\n",
              "      display: none;\n",
              "      fill: #1967D2;\n",
              "      height: 32px;\n",
              "      padding: 0 0 0 0;\n",
              "      width: 32px;\n",
              "    }\n",
              "\n",
              "    .colab-df-convert:hover {\n",
              "      background-color: #E2EBFA;\n",
              "      box-shadow: 0px 1px 2px rgba(60, 64, 67, 0.3), 0px 1px 3px 1px rgba(60, 64, 67, 0.15);\n",
              "      fill: #174EA6;\n",
              "    }\n",
              "\n",
              "    [theme=dark] .colab-df-convert {\n",
              "      background-color: #3B4455;\n",
              "      fill: #D2E3FC;\n",
              "    }\n",
              "\n",
              "    [theme=dark] .colab-df-convert:hover {\n",
              "      background-color: #434B5C;\n",
              "      box-shadow: 0px 1px 3px 1px rgba(0, 0, 0, 0.15);\n",
              "      filter: drop-shadow(0px 1px 2px rgba(0, 0, 0, 0.3));\n",
              "      fill: #FFFFFF;\n",
              "    }\n",
              "  </style>\n",
              "\n",
              "      <script>\n",
              "        const buttonEl =\n",
              "          document.querySelector('#df-f856f994-9a6e-4f70-a647-1889c95bc213 button.colab-df-convert');\n",
              "        buttonEl.style.display =\n",
              "          google.colab.kernel.accessAllowed ? 'block' : 'none';\n",
              "\n",
              "        async function convertToInteractive(key) {\n",
              "          const element = document.querySelector('#df-f856f994-9a6e-4f70-a647-1889c95bc213');\n",
              "          const dataTable =\n",
              "            await google.colab.kernel.invokeFunction('convertToInteractive',\n",
              "                                                     [key], {});\n",
              "          if (!dataTable) return;\n",
              "\n",
              "          const docLinkHtml = 'Like what you see? Visit the ' +\n",
              "            '<a target=\"_blank\" href=https://colab.research.google.com/notebooks/data_table.ipynb>data table notebook</a>'\n",
              "            + ' to learn more about interactive tables.';\n",
              "          element.innerHTML = '';\n",
              "          dataTable['output_type'] = 'display_data';\n",
              "          await google.colab.output.renderOutput(dataTable, element);\n",
              "          const docLink = document.createElement('div');\n",
              "          docLink.innerHTML = docLinkHtml;\n",
              "          element.appendChild(docLink);\n",
              "        }\n",
              "      </script>\n",
              "    </div>\n",
              "  </div>\n",
              "  "
            ]
          },
          "metadata": {},
          "execution_count": 11
        }
      ]
    },
    {
      "cell_type": "code",
      "source": [
        "plt.bar(ipl_df_2[\"season\"],ipl_df_2['per_home_wins'])"
      ],
      "metadata": {
        "colab": {
          "base_uri": "https://localhost:8080/",
          "height": 447
        },
        "id": "agXihev4Gsjo",
        "outputId": "9ebdda0b-a3bf-4e24-82c6-4fdef0f2d96c"
      },
      "execution_count": 12,
      "outputs": [
        {
          "output_type": "execute_result",
          "data": {
            "text/plain": [
              "<BarContainer object of 15 artists>"
            ]
          },
          "metadata": {},
          "execution_count": 12
        },
        {
          "output_type": "display_data",
          "data": {
            "text/plain": [
              "<Figure size 640x480 with 1 Axes>"
            ],
            "image/png": "[encoded data removed]"
          },
          "metadata": {}
        }
      ]
    },
    {
      "cell_type": "code",
      "source": [
        "plt.bar(ipl_df_2[\"season\"],ipl_df_2['per_toss_wins'])"
      ],
      "metadata": {
        "colab": {
          "base_uri": "https://localhost:8080/",
          "height": 447
        },
        "id": "9zJk6RIIHTwN",
        "outputId": "a383f7a2-0419-474e-f987-ce39a9512cfb"
      },
      "execution_count": 13,
      "outputs": [
        {
          "output_type": "execute_result",
          "data": {
            "text/plain": [
              "<BarContainer object of 15 artists>"
            ]
          },
          "metadata": {},
          "execution_count": 13
        },
        {
          "output_type": "display_data",
          "data": {
            "text/plain": [
              "<Figure size 640x480 with 1 Axes>"
            ],
            "image/png": "[encoded data removed]"
          },
          "metadata": {}
        }
      ]
    },
    {
      "cell_type": "code",
      "source": [
        "ipl_df.columns"
      ],
      "metadata": {
        "colab": {
          "base_uri": "https://localhost:8080/"
        },
        "id": "GxKWmMAIzx99",
        "outputId": "6f6e2f6a-94b6-46db-f21e-f77a80cdc895"
      },
      "execution_count": 14,
      "outputs": [
        {
          "output_type": "execute_result",
          "data": {
            "text/plain": [
              "Index(['season', 'id', 'name', 'short_name', 'description', 'home_team',\n",
              "       'away_team', 'toss_won', 'decision', '1st_inning_score',\n",
              "       '2nd_inning_score', 'home_score', 'away_score', 'winner', 'result',\n",
              "       'start_date', 'end_date', 'venue_id', 'venue_name', 'home_captain',\n",
              "       'away_captain', 'pom', 'points', 'super_over', 'home_overs',\n",
              "       'home_runs', 'home_wickets', 'home_boundaries', 'away_overs',\n",
              "       'away_runs', 'away_wickets', 'away_boundaries', 'highlights',\n",
              "       'home_key_batsman', 'home_key_bowler', 'home_playx1', 'away_playx1',\n",
              "       'away_key_batsman', 'away_key_bowler', 'match_days', 'umpire1',\n",
              "       'umpire2', 'tv_umpire', 'referee', 'reserve_umpire',\n",
              "       'home_team_wins_flag', 'toss_wins_flag'],\n",
              "      dtype='object')"
            ]
          },
          "metadata": {},
          "execution_count": 14
        }
      ]
    },
    {
      "cell_type": "code",
      "source": [
        "ipl_df_data = ipl_df.copy()"
      ],
      "metadata": {
        "id": "686-iQhzxKUH"
      },
      "execution_count": 49,
      "outputs": []
    },
    {
      "cell_type": "code",
      "source": [
        "ipl_df_data['win'] = np.where(ipl_df_data['winner']==ipl_df_data['home_team'],1,0)"
      ],
      "metadata": {
        "id": "vonu_RXtCrJ4"
      },
      "execution_count": 50,
      "outputs": []
    },
    {
      "cell_type": "code",
      "source": [
        "# Sorting the dataframe in ascending order according to the dates\n",
        "ipl_df_data = ipl_df_data.sort_values(by='start_date').reset_index()\n",
        "ipl_df_data['head_to_head_win_percentage'] = 0.0\n",
        "\n",
        "# Calculate head-to-head win percentage for each match\n",
        "for i in range(0, len(ipl_df_data)):\n",
        "    # Get current match teams\n",
        "    team1 = ipl_df_data.loc[i, 'home_team']\n",
        "    team2 = ipl_df_data.loc[i, 'away_team']\n",
        "\n",
        "    # Get previous matches between these teams\n",
        "    prev_matches = ipl_df_data.iloc[:i][((ipl_df_data['home_team'] == team1) & (ipl_df_data['away_team'] == team2)) |\n",
        "                                ((ipl_df_data['home_team'] == team2) & (ipl_df_data['away_team'] == team1))]\n",
        "\n",
        "\n",
        "    if len(prev_matches)<=3:\n",
        "        continue\n",
        "\n",
        "    # Calculate head-to-head win percentage for team1\n",
        "    head_to_head_win_percentage = prev_matches['winner'].apply(lambda x: 1 if x == team1 else 0).mean()\n",
        "\n",
        "    # Store head-to-head win percentage\n",
        "    ipl_df_data.loc[i, 'head_to_head_win_percentage'] = head_to_head_win_percentage"
      ],
      "metadata": {
        "id": "RBL9FDlHJCP6"
      },
      "execution_count": 51,
      "outputs": []
    },
    {
      "cell_type": "code",
      "source": [
        "ipl_df_data['venue_win_percentage'] = 0.0\n",
        "\n",
        "# Calculate venue win percentage for each match\n",
        "for i in range(0, len(ipl_df_data)):\n",
        "    # Get current match team and venue\n",
        "    team, venue = ipl_df_data.loc[i, ['home_team', 'venue_id']]\n",
        "\n",
        "    # Get previous matches at the same venue\n",
        "    prev_matches = ipl_df_data.iloc[:i][((ipl_df_data['home_team'] == team) | (ipl_df_data['away_team'] == team)) & (ipl_df_data['venue_id'] == venue)]\n",
        "\n",
        "    if len(prev_matches)<=3:\n",
        "        continue\n",
        "\n",
        "    # Calculate win percentage\n",
        "    win_percentage = prev_matches['win'].mean()\n",
        "\n",
        "    # Store win percentage\n",
        "    ipl_df_data.loc[i, 'venue_win_percentage'] = win_percentage"
      ],
      "metadata": {
        "id": "taVEUqJPB3R1"
      },
      "execution_count": 52,
      "outputs": []
    },
    {
      "cell_type": "code",
      "source": [
        "ipl_df_data['toss_winner'] = np.where(ipl_df_data['toss_won']==ipl_df_data['winner'],1,0)\n",
        "ipl_df_data['toss_win_percentage'] = 0.0\n",
        "\n",
        "# Calculate toss win percentage for each match\n",
        "for i in range(0, len(ipl_df_data)):\n",
        "    # Get current match team\n",
        "    team = ipl_df_data.loc[i, 'home_team']\n",
        "\n",
        "    # Get previous matches for the same team\n",
        "    prev_matches = ipl_df_data.iloc[:i][((ipl_df_data['home_team'] == team) | (ipl_df_data['away_team'] == team)) & (ipl_df_data['toss_won']==team)]\n",
        "\n",
        "    if len(prev_matches)<=3:\n",
        "        continue\n",
        "\n",
        "    # Calculate toss win percentage\n",
        "    toss_win_percentage = prev_matches['toss_winner'].mean()\n",
        "\n",
        "    # Store toss win percentage\n",
        "    ipl_df_data.loc[i, 'toss_win_percentage'] = toss_win_percentage\n"
      ],
      "metadata": {
        "id": "JC6li7T7D0mJ"
      },
      "execution_count": 53,
      "outputs": []
    },
    {
      "cell_type": "code",
      "source": [
        "ipl_df_data['bat_first'] = ipl_df_data.apply(lambda row: 1 if row['decision'] == 'BAT FIRST' else 0, axis=1)\n",
        "ipl_df_data['bowl_first'] = ipl_df_data.apply(lambda row: 1 if row['decision'] == 'BOWL FIRST' else 0, axis=1)\n",
        "# Initialize a new column for batting first win percentage\n",
        "ipl_df_data['bat_first_win_percentage'] = 0.0\n",
        "\n",
        "# Calculate batting first win percentage for each match\n",
        "for i in range(1, len(ipl_df_data)):\n",
        "    team = ipl_df_data.loc[i, 'home_team']\n",
        "\n",
        "    prev_matches = ipl_df_data.iloc[:i][((ipl_df_data['home_team'] == team) | (ipl_df_data['away_team'] == team)) & (((ipl_df_data['bat_first'] == 1) & (ipl_df_data['toss_won'] == team)) |((ipl_df_data['toss_won'] != team) & (ipl_df_data['bowl_first'] == 1)))]\n",
        "    prev_matches['bat_first_win'] = np.where(prev_matches['winner']==team,1,0)\n",
        "    if len(prev_matches)<=3:\n",
        "        continue\n",
        "    bat_first_win_percentage = prev_matches['bat_first_win'].mean()\n",
        "\n",
        "\n",
        "    # Store batting first win percentage\n",
        "    ipl_df_data.loc[i, 'bat_first_win_percentage'] = bat_first_win_percentage"
      ],
      "metadata": {
        "id": "3x05f2cNS1xr"
      },
      "execution_count": 54,
      "outputs": []
    },
    {
      "cell_type": "code",
      "source": [
        "# Initialize a new column for bowling first win percentage\n",
        "ipl_df_data['bowl_first_win_percentage'] = 0.0\n",
        "\n",
        "# Calculate bowling first win percentage for each match\n",
        "for i in range(1, len(ipl_df_data)):\n",
        "    team = ipl_df_data.loc[i, 'home_team']\n",
        "\n",
        "    prev_matches = ipl_df_data.iloc[:i][((ipl_df_data['home_team'] == team) | (ipl_df_data['away_team'] == team)) & (((ipl_df_data['bowl_first'] == 1) & (ipl_df_data['toss_won'] == team)) | ((ipl_df_data['toss_won'] != team) | (ipl_df_data['bat_first'] == 1))) ]\n",
        "\n",
        "    if len(prev_matches)<=3:\n",
        "        continue\n",
        "    bowl_first_win_percentage = prev_matches['win'].mean()\n",
        "\n",
        "    # Store bowling first win percentage\n",
        "    ipl_df_data.loc[i, 'bowl_first_win_percentage'] = bowl_first_win_percentage"
      ],
      "metadata": {
        "id": "FnMiPtft9iCS"
      },
      "execution_count": 55,
      "outputs": []
    },
    {
      "cell_type": "code",
      "source": [
        "ipl_df_data['seasonal_win_percentage'] = 0.0\n",
        "\n",
        "# Calculate seasonal win percentage for each match\n",
        "for season in ipl_df_data['season'].unique():\n",
        "    for i in ipl_df_data[ipl_df_data['season'] == season].index[0:]:\n",
        "        team = ipl_df_data.loc[i, 'home_team']\n",
        "        prev_matches = ipl_df_data.iloc[:i][(ipl_df_data['season'] == season) & ((ipl_df_data['home_team'] == team) | (ipl_df_data['away_team'] == team))]\n",
        "        prev_matches['season_win'] = np.where(prev_matches['winner']==team,1,0)\n",
        "        seasonal_win_percentage = prev_matches['season_win'].mean()\n",
        "        ipl_df_data.loc[i, 'seasonal_win_percentage'] = seasonal_win_percentage\n",
        "    if len(prev_matches)<=3:\n",
        "        continue"
      ],
      "metadata": {
        "id": "4eoVKXB-91V9"
      },
      "execution_count": 56,
      "outputs": []
    },
    {
      "cell_type": "code",
      "source": [
        "ipl_df_data.describe()"
      ],
      "metadata": {
        "colab": {
          "base_uri": "https://localhost:8080/",
          "height": 394
        },
        "id": "iw9Z-ZLQcdav",
        "outputId": "36379d6f-8e43-42a3-b576-898d8b00534a"
      },
      "execution_count": 57,
      "outputs": [
        {
          "output_type": "execute_result",
          "data": {
            "text/plain": [
              "            index       season            id       venue_id  home_overs  \\\n",
              "count  958.000000   958.000000  9.580000e+02     958.000000  950.000000   \n",
              "mean   478.500000  2014.973904  8.283838e+05  122107.409186   19.071368   \n",
              "std    276.695079     4.316664  3.376360e+05  147116.606610    2.128892   \n",
              "min      0.000000  2008.000000  3.359820e+05   57851.000000    1.100000   \n",
              "25%    239.250000  2011.000000  5.012592e+05   58008.000000   19.200000   \n",
              "50%    478.500000  2015.000000  8.297340e+05   58162.000000   20.000000   \n",
              "75%    717.750000  2019.000000  1.175370e+06   59120.000000   20.000000   \n",
              "max    957.000000  2022.000000  1.312200e+06  601879.000000   20.000000   \n",
              "\n",
              "        home_runs  home_wickets  home_boundaries  away_overs   away_runs  ...  \\\n",
              "count  950.000000    950.000000       950.000000  948.000000  948.000000  ...   \n",
              "mean   157.129474      5.763158        19.193684   19.051793  154.531646  ...   \n",
              "std     31.491834      2.409961         5.799455    2.158935   30.879130  ...   \n",
              "min      2.000000      0.000000         0.000000    3.200000   41.000000  ...   \n",
              "25%    138.000000      4.000000        15.000000   19.100000  136.000000  ...   \n",
              "50%    159.000000      6.000000        19.000000   20.000000  156.500000  ...   \n",
              "75%    178.000000      8.000000        23.000000   20.000000  175.000000  ...   \n",
              "max    263.000000     10.000000        42.000000   20.000000  245.000000  ...   \n",
              "\n",
              "              win  head_to_head_win_percentage  venue_win_percentage  \\\n",
              "count  958.000000                   958.000000            958.000000   \n",
              "mean     0.532359                     0.359235              0.371333   \n",
              "std      0.499212                     0.253790              0.273144   \n",
              "min      0.000000                     0.000000              0.000000   \n",
              "25%      0.000000                     0.000000              0.000000   \n",
              "50%      1.000000                     0.428571              0.448276   \n",
              "75%      1.000000                     0.551293              0.600000   \n",
              "max      1.000000                     1.000000              1.000000   \n",
              "\n",
              "       toss_winner  toss_win_percentage   bat_first  bowl_first  \\\n",
              "count   958.000000           958.000000  958.000000  958.000000   \n",
              "mean      0.511482             0.483027    0.366388    0.626305   \n",
              "std       0.500129             0.168009    0.482069    0.484037   \n",
              "min       0.000000             0.000000    0.000000    0.000000   \n",
              "25%       0.000000             0.444444    0.000000    0.000000   \n",
              "50%       1.000000             0.510310    0.000000    1.000000   \n",
              "75%       1.000000             0.571429    1.000000    1.000000   \n",
              "max       1.000000             1.000000    1.000000    1.000000   \n",
              "\n",
              "       bat_first_win_percentage  bowl_first_win_percentage  \\\n",
              "count                958.000000                 958.000000   \n",
              "mean                   0.409582                   0.510647   \n",
              "std                    0.152291                   0.115691   \n",
              "min                    0.000000                   0.000000   \n",
              "25%                    0.373970                   0.500000   \n",
              "50%                    0.422535                   0.527780   \n",
              "75%                    0.500000                   0.562500   \n",
              "max                    0.875000                   0.800000   \n",
              "\n",
              "       seasonal_win_percentage  \n",
              "count               895.000000  \n",
              "mean                  0.508594  \n",
              "std                   0.238268  \n",
              "min                   0.000000  \n",
              "25%                   0.363636  \n",
              "50%                   0.500000  \n",
              "75%                   0.666667  \n",
              "max                   1.000000  \n",
              "\n",
              "[8 rows x 24 columns]"
            ],
            "text/html": [
              "\n",
              "  <div id=\"df-24afc017-a6e6-4cbf-84a9-b7eabceaa2ba\">\n",
              "    <div class=\"colab-df-container\">\n",
              "      <div>\n",
              "<style scoped>\n",
              "    .dataframe tbody tr th:only-of-type {\n",
              "        vertical-align: middle;\n",
              "    }\n",
              "\n",
              "    .dataframe tbody tr th {\n",
              "        vertical-align: top;\n",
              "    }\n",
              "\n",
              "    .dataframe thead th {\n",
              "        text-align: right;\n",
              "    }\n",
              "</style>\n",
              "<table border=\"1\" class=\"dataframe\">\n",
              "  <thead>\n",
              "    <tr style=\"text-align: right;\">\n",
              "      <th></th>\n",
              "      <th>index</th>\n",
              "      <th>season</th>\n",
              "      <th>id</th>\n",
              "      <th>venue_id</th>\n",
              "      <th>home_overs</th>\n",
              "      <th>home_runs</th>\n",
              "      <th>home_wickets</th>\n",
              "      <th>home_boundaries</th>\n",
              "      <th>away_overs</th>\n",
              "      <th>away_runs</th>\n",
              "      <th>...</th>\n",
              "      <th>win</th>\n",
              "      <th>head_to_head_win_percentage</th>\n",
              "      <th>venue_win_percentage</th>\n",
              "      <th>toss_winner</th>\n",
              "      <th>toss_win_percentage</th>\n",
              "      <th>bat_first</th>\n",
              "      <th>bowl_first</th>\n",
              "      <th>bat_first_win_percentage</th>\n",
              "      <th>bowl_first_win_percentage</th>\n",
              "      <th>seasonal_win_percentage</th>\n",
              "    </tr>\n",
              "  </thead>\n",
              "  <tbody>\n",
              "    <tr>\n",
              "      <th>count</th>\n",
              "      <td>958.000000</td>\n",
              "      <td>958.000000</td>\n",
              "      <td>9.580000e+02</td>\n",
              "      <td>958.000000</td>\n",
              "      <td>950.000000</td>\n",
              "      <td>950.000000</td>\n",
              "      <td>950.000000</td>\n",
              "      <td>950.000000</td>\n",
              "      <td>948.000000</td>\n",
              "      <td>948.000000</td>\n",
              "      <td>...</td>\n",
              "      <td>958.000000</td>\n",
              "      <td>958.000000</td>\n",
              "      <td>958.000000</td>\n",
              "      <td>958.000000</td>\n",
              "      <td>958.000000</td>\n",
              "      <td>958.000000</td>\n",
              "      <td>958.000000</td>\n",
              "      <td>958.000000</td>\n",
              "      <td>958.000000</td>\n",
              "      <td>895.000000</td>\n",
              "    </tr>\n",
              "    <tr>\n",
              "      <th>mean</th>\n",
              "      <td>478.500000</td>\n",
              "      <td>2014.973904</td>\n",
              "      <td>8.283838e+05</td>\n",
              "      <td>122107.409186</td>\n",
              "      <td>19.071368</td>\n",
              "      <td>157.129474</td>\n",
              "      <td>5.763158</td>\n",
              "      <td>19.193684</td>\n",
              "      <td>19.051793</td>\n",
              "      <td>154.531646</td>\n",
              "      <td>...</td>\n",
              "      <td>0.532359</td>\n",
              "      <td>0.359235</td>\n",
              "      <td>0.371333</td>\n",
              "      <td>0.511482</td>\n",
              "      <td>0.483027</td>\n",
              "      <td>0.366388</td>\n",
              "      <td>0.626305</td>\n",
              "      <td>0.409582</td>\n",
              "      <td>0.510647</td>\n",
              "      <td>0.508594</td>\n",
              "    </tr>\n",
              "    <tr>\n",
              "      <th>std</th>\n",
              "      <td>276.695079</td>\n",
              "      <td>4.316664</td>\n",
              "      <td>3.376360e+05</td>\n",
              "      <td>147116.606610</td>\n",
              "      <td>2.128892</td>\n",
              "      <td>31.491834</td>\n",
              "      <td>2.409961</td>\n",
              "      <td>5.799455</td>\n",
              "      <td>2.158935</td>\n",
              "      <td>30.879130</td>\n",
              "      <td>...</td>\n",
              "      <td>0.499212</td>\n",
              "      <td>0.253790</td>\n",
              "      <td>0.273144</td>\n",
              "      <td>0.500129</td>\n",
              "      <td>0.168009</td>\n",
              "      <td>0.482069</td>\n",
              "      <td>0.484037</td>\n",
              "      <td>0.152291</td>\n",
              "      <td>0.115691</td>\n",
              "      <td>0.238268</td>\n",
              "    </tr>\n",
              "    <tr>\n",
              "      <th>min</th>\n",
              "      <td>0.000000</td>\n",
              "      <td>2008.000000</td>\n",
              "      <td>3.359820e+05</td>\n",
              "      <td>57851.000000</td>\n",
              "      <td>1.100000</td>\n",
              "      <td>2.000000</td>\n",
              "      <td>0.000000</td>\n",
              "      <td>0.000000</td>\n",
              "      <td>3.200000</td>\n",
              "      <td>41.000000</td>\n",
              "      <td>...</td>\n",
              "      <td>0.000000</td>\n",
              "      <td>0.000000</td>\n",
              "      <td>0.000000</td>\n",
              "      <td>0.000000</td>\n",
              "      <td>0.000000</td>\n",
              "      <td>0.000000</td>\n",
              "      <td>0.000000</td>\n",
              "      <td>0.000000</td>\n",
              "      <td>0.000000</td>\n",
              "      <td>0.000000</td>\n",
              "    </tr>\n",
              "    <tr>\n",
              "      <th>25%</th>\n",
              "      <td>239.250000</td>\n",
              "      <td>2011.000000</td>\n",
              "      <td>5.012592e+05</td>\n",
              "      <td>58008.000000</td>\n",
              "      <td>19.200000</td>\n",
              "      <td>138.000000</td>\n",
              "      <td>4.000000</td>\n",
              "      <td>15.000000</td>\n",
              "      <td>19.100000</td>\n",
              "      <td>136.000000</td>\n",
              "      <td>...</td>\n",
              "      <td>0.000000</td>\n",
              "      <td>0.000000</td>\n",
              "      <td>0.000000</td>\n",
              "      <td>0.000000</td>\n",
              "      <td>0.444444</td>\n",
              "      <td>0.000000</td>\n",
              "      <td>0.000000</td>\n",
              "      <td>0.373970</td>\n",
              "      <td>0.500000</td>\n",
              "      <td>0.363636</td>\n",
              "    </tr>\n",
              "    <tr>\n",
              "      <th>50%</th>\n",
              "      <td>478.500000</td>\n",
              "      <td>2015.000000</td>\n",
              "      <td>8.297340e+05</td>\n",
              "      <td>58162.000000</td>\n",
              "      <td>20.000000</td>\n",
              "      <td>159.000000</td>\n",
              "      <td>6.000000</td>\n",
              "      <td>19.000000</td>\n",
              "      <td>20.000000</td>\n",
              "      <td>156.500000</td>\n",
              "      <td>...</td>\n",
              "      <td>1.000000</td>\n",
              "      <td>0.428571</td>\n",
              "      <td>0.448276</td>\n",
              "      <td>1.000000</td>\n",
              "      <td>0.510310</td>\n",
              "      <td>0.000000</td>\n",
              "      <td>1.000000</td>\n",
              "      <td>0.422535</td>\n",
              "      <td>0.527780</td>\n",
              "      <td>0.500000</td>\n",
              "    </tr>\n",
              "    <tr>\n",
              "      <th>75%</th>\n",
              "      <td>717.750000</td>\n",
              "      <td>2019.000000</td>\n",
              "      <td>1.175370e+06</td>\n",
              "      <td>59120.000000</td>\n",
              "      <td>20.000000</td>\n",
              "      <td>178.000000</td>\n",
              "      <td>8.000000</td>\n",
              "      <td>23.000000</td>\n",
              "      <td>20.000000</td>\n",
              "      <td>175.000000</td>\n",
              "      <td>...</td>\n",
              "      <td>1.000000</td>\n",
              "      <td>0.551293</td>\n",
              "      <td>0.600000</td>\n",
              "      <td>1.000000</td>\n",
              "      <td>0.571429</td>\n",
              "      <td>1.000000</td>\n",
              "      <td>1.000000</td>\n",
              "      <td>0.500000</td>\n",
              "      <td>0.562500</td>\n",
              "      <td>0.666667</td>\n",
              "    </tr>\n",
              "    <tr>\n",
              "      <th>max</th>\n",
              "      <td>957.000000</td>\n",
              "      <td>2022.000000</td>\n",
              "      <td>1.312200e+06</td>\n",
              "      <td>601879.000000</td>\n",
              "      <td>20.000000</td>\n",
              "      <td>263.000000</td>\n",
              "      <td>10.000000</td>\n",
              "      <td>42.000000</td>\n",
              "      <td>20.000000</td>\n",
              "      <td>245.000000</td>\n",
              "      <td>...</td>\n",
              "      <td>1.000000</td>\n",
              "      <td>1.000000</td>\n",
              "      <td>1.000000</td>\n",
              "      <td>1.000000</td>\n",
              "      <td>1.000000</td>\n",
              "      <td>1.000000</td>\n",
              "      <td>1.000000</td>\n",
              "      <td>0.875000</td>\n",
              "      <td>0.800000</td>\n",
              "      <td>1.000000</td>\n",
              "    </tr>\n",
              "  </tbody>\n",
              "</table>\n",
              "<p>8 rows × 24 columns</p>\n",
              "</div>\n",
              "      <button class=\"colab-df-convert\" onclick=\"convertToInteractive('df-24afc017-a6e6-4cbf-84a9-b7eabceaa2ba')\"\n",
              "              title=\"Convert this dataframe to an interactive table.\"\n",
              "              style=\"display:none;\">\n",
              "        \n",
              "  <svg xmlns=\"http://www.w3.org/2000/svg\" height=\"24px\"viewBox=\"0 0 24 24\"\n",
              "       width=\"24px\">\n",
              "    <path d=\"M0 0h24v24H0V0z\" fill=\"none\"/>\n",
              "    <path d=\"M18.56 5.44l.94 2.06.94-2.06 2.06-.94-2.06-.94-.94-2.06-.94 2.06-2.06.94zm-11 1L8.5 8.5l.94-2.06 2.06-.94-2.06-.94L8.5 2.5l-.94 2.06-2.06.94zm10 10l.94 2.06.94-2.06 2.06-.94-2.06-.94-.94-2.06-.94 2.06-2.06.94z\"/><path d=\"M17.41 7.96l-1.37-1.37c-.4-.4-.92-.59-1.43-.59-.52 0-1.04.2-1.43.59L10.3 9.45l-7.72 7.72c-.78.78-.78 2.05 0 2.83L4 21.41c.39.39.9.59 1.41.59.51 0 1.02-.2 1.41-.59l7.78-7.78 2.81-2.81c.8-.78.8-2.07 0-2.86zM5.41 20L4 18.59l7.72-7.72 1.47 1.35L5.41 20z\"/>\n",
              "  </svg>\n",
              "      </button>\n",
              "      \n",
              "  <style>\n",
              "    .colab-df-container {\n",
              "      display:flex;\n",
              "      flex-wrap:wrap;\n",
              "      gap: 12px;\n",
              "    }\n",
              "\n",
              "    .colab-df-convert {\n",
              "      background-color: #E8F0FE;\n",
              "      border: none;\n",
              "      border-radius: 50%;\n",
              "      cursor: pointer;\n",
              "      display: none;\n",
              "      fill: #1967D2;\n",
              "      height: 32px;\n",
              "      padding: 0 0 0 0;\n",
              "      width: 32px;\n",
              "    }\n",
              "\n",
              "    .colab-df-convert:hover {\n",
              "      background-color: #E2EBFA;\n",
              "      box-shadow: 0px 1px 2px rgba(60, 64, 67, 0.3), 0px 1px 3px 1px rgba(60, 64, 67, 0.15);\n",
              "      fill: #174EA6;\n",
              "    }\n",
              "\n",
              "    [theme=dark] .colab-df-convert {\n",
              "      background-color: #3B4455;\n",
              "      fill: #D2E3FC;\n",
              "    }\n",
              "\n",
              "    [theme=dark] .colab-df-convert:hover {\n",
              "      background-color: #434B5C;\n",
              "      box-shadow: 0px 1px 3px 1px rgba(0, 0, 0, 0.15);\n",
              "      filter: drop-shadow(0px 1px 2px rgba(0, 0, 0, 0.3));\n",
              "      fill: #FFFFFF;\n",
              "    }\n",
              "  </style>\n",
              "\n",
              "      <script>\n",
              "        const buttonEl =\n",
              "          document.querySelector('#df-24afc017-a6e6-4cbf-84a9-b7eabceaa2ba button.colab-df-convert');\n",
              "        buttonEl.style.display =\n",
              "          google.colab.kernel.accessAllowed ? 'block' : 'none';\n",
              "\n",
              "        async function convertToInteractive(key) {\n",
              "          const element = document.querySelector('#df-24afc017-a6e6-4cbf-84a9-b7eabceaa2ba');\n",
              "          const dataTable =\n",
              "            await google.colab.kernel.invokeFunction('convertToInteractive',\n",
              "                                                     [key], {});\n",
              "          if (!dataTable) return;\n",
              "\n",
              "          const docLinkHtml = 'Like what you see? Visit the ' +\n",
              "            '<a target=\"_blank\" href=https://colab.research.google.com/notebooks/data_table.ipynb>data table notebook</a>'\n",
              "            + ' to learn more about interactive tables.';\n",
              "          element.innerHTML = '';\n",
              "          dataTable['output_type'] = 'display_data';\n",
              "          await google.colab.output.renderOutput(dataTable, element);\n",
              "          const docLink = document.createElement('div');\n",
              "          docLink.innerHTML = docLinkHtml;\n",
              "          element.appendChild(docLink);\n",
              "        }\n",
              "      </script>\n",
              "    </div>\n",
              "  </div>\n",
              "  "
            ]
          },
          "metadata": {},
          "execution_count": 57
        }
      ]
    },
    {
      "cell_type": "code",
      "source": [
        "ipl_df_data[ipl_df_data['id']==419155][['head_to_head_win_percentage','venue_win_percentage','toss_win_percentage','bat_first_win_percentage','bowl_first_win_percentage','seasonal_win_percentage','win']]"
      ],
      "metadata": {
        "colab": {
          "base_uri": "https://localhost:8080/",
          "height": 81
        },
        "id": "Cbv3ZhxOuDyx",
        "outputId": "7bd3e6d9-3add-48aa-cde7-bdc3b10eb41d"
      },
      "execution_count": 88,
      "outputs": [
        {
          "output_type": "execute_result",
          "data": {
            "text/plain": [
              "     head_to_head_win_percentage  venue_win_percentage  toss_win_percentage  \\\n",
              "167                          0.6              0.615385             0.611111   \n",
              "\n",
              "     bat_first_win_percentage  bowl_first_win_percentage  \\\n",
              "167                  0.541667                   0.534884   \n",
              "\n",
              "     seasonal_win_percentage  win  \n",
              "167                 0.583333    0  "
            ],
            "text/html": [
              "\n",
              "  <div id=\"df-42b96bb1-b3f7-4d41-99e3-cabbdf5c5840\">\n",
              "    <div class=\"colab-df-container\">\n",
              "      <div>\n",
              "<style scoped>\n",
              "    .dataframe tbody tr th:only-of-type {\n",
              "        vertical-align: middle;\n",
              "    }\n",
              "\n",
              "    .dataframe tbody tr th {\n",
              "        vertical-align: top;\n",
              "    }\n",
              "\n",
              "    .dataframe thead th {\n",
              "        text-align: right;\n",
              "    }\n",
              "</style>\n",
              "<table border=\"1\" class=\"dataframe\">\n",
              "  <thead>\n",
              "    <tr style=\"text-align: right;\">\n",
              "      <th></th>\n",
              "      <th>head_to_head_win_percentage</th>\n",
              "      <th>venue_win_percentage</th>\n",
              "      <th>toss_win_percentage</th>\n",
              "      <th>bat_first_win_percentage</th>\n",
              "      <th>bowl_first_win_percentage</th>\n",
              "      <th>seasonal_win_percentage</th>\n",
              "      <th>win</th>\n",
              "    </tr>\n",
              "  </thead>\n",
              "  <tbody>\n",
              "    <tr>\n",
              "      <th>167</th>\n",
              "      <td>0.6</td>\n",
              "      <td>0.615385</td>\n",
              "      <td>0.611111</td>\n",
              "      <td>0.541667</td>\n",
              "      <td>0.534884</td>\n",
              "      <td>0.583333</td>\n",
              "      <td>0</td>\n",
              "    </tr>\n",
              "  </tbody>\n",
              "</table>\n",
              "</div>\n",
              "      <button class=\"colab-df-convert\" onclick=\"convertToInteractive('df-42b96bb1-b3f7-4d41-99e3-cabbdf5c5840')\"\n",
              "              title=\"Convert this dataframe to an interactive table.\"\n",
              "              style=\"display:none;\">\n",
              "        \n",
              "  <svg xmlns=\"http://www.w3.org/2000/svg\" height=\"24px\"viewBox=\"0 0 24 24\"\n",
              "       width=\"24px\">\n",
              "    <path d=\"M0 0h24v24H0V0z\" fill=\"none\"/>\n",
              "    <path d=\"M18.56 5.44l.94 2.06.94-2.06 2.06-.94-2.06-.94-.94-2.06-.94 2.06-2.06.94zm-11 1L8.5 8.5l.94-2.06 2.06-.94-2.06-.94L8.5 2.5l-.94 2.06-2.06.94zm10 10l.94 2.06.94-2.06 2.06-.94-2.06-.94-.94-2.06-.94 2.06-2.06.94z\"/><path d=\"M17.41 7.96l-1.37-1.37c-.4-.4-.92-.59-1.43-.59-.52 0-1.04.2-1.43.59L10.3 9.45l-7.72 7.72c-.78.78-.78 2.05 0 2.83L4 21.41c.39.39.9.59 1.41.59.51 0 1.02-.2 1.41-.59l7.78-7.78 2.81-2.81c.8-.78.8-2.07 0-2.86zM5.41 20L4 18.59l7.72-7.72 1.47 1.35L5.41 20z\"/>\n",
              "  </svg>\n",
              "      </button>\n",
              "      \n",
              "  <style>\n",
              "    .colab-df-container {\n",
              "      display:flex;\n",
              "      flex-wrap:wrap;\n",
              "      gap: 12px;\n",
              "    }\n",
              "\n",
              "    .colab-df-convert {\n",
              "      background-color: #E8F0FE;\n",
              "      border: none;\n",
              "      border-radius: 50%;\n",
              "      cursor: pointer;\n",
              "      display: none;\n",
              "      fill: #1967D2;\n",
              "      height: 32px;\n",
              "      padding: 0 0 0 0;\n",
              "      width: 32px;\n",
              "    }\n",
              "\n",
              "    .colab-df-convert:hover {\n",
              "      background-color: #E2EBFA;\n",
              "      box-shadow: 0px 1px 2px rgba(60, 64, 67, 0.3), 0px 1px 3px 1px rgba(60, 64, 67, 0.15);\n",
              "      fill: #174EA6;\n",
              "    }\n",
              "\n",
              "    [theme=dark] .colab-df-convert {\n",
              "      background-color: #3B4455;\n",
              "      fill: #D2E3FC;\n",
              "    }\n",
              "\n",
              "    [theme=dark] .colab-df-convert:hover {\n",
              "      background-color: #434B5C;\n",
              "      box-shadow: 0px 1px 3px 1px rgba(0, 0, 0, 0.15);\n",
              "      filter: drop-shadow(0px 1px 2px rgba(0, 0, 0, 0.3));\n",
              "      fill: #FFFFFF;\n",
              "    }\n",
              "  </style>\n",
              "\n",
              "      <script>\n",
              "        const buttonEl =\n",
              "          document.querySelector('#df-42b96bb1-b3f7-4d41-99e3-cabbdf5c5840 button.colab-df-convert');\n",
              "        buttonEl.style.display =\n",
              "          google.colab.kernel.accessAllowed ? 'block' : 'none';\n",
              "\n",
              "        async function convertToInteractive(key) {\n",
              "          const element = document.querySelector('#df-42b96bb1-b3f7-4d41-99e3-cabbdf5c5840');\n",
              "          const dataTable =\n",
              "            await google.colab.kernel.invokeFunction('convertToInteractive',\n",
              "                                                     [key], {});\n",
              "          if (!dataTable) return;\n",
              "\n",
              "          const docLinkHtml = 'Like what you see? Visit the ' +\n",
              "            '<a target=\"_blank\" href=https://colab.research.google.com/notebooks/data_table.ipynb>data table notebook</a>'\n",
              "            + ' to learn more about interactive tables.';\n",
              "          element.innerHTML = '';\n",
              "          dataTable['output_type'] = 'display_data';\n",
              "          await google.colab.output.renderOutput(dataTable, element);\n",
              "          const docLink = document.createElement('div');\n",
              "          docLink.innerHTML = docLinkHtml;\n",
              "          element.appendChild(docLink);\n",
              "        }\n",
              "      </script>\n",
              "    </div>\n",
              "  </div>\n",
              "  "
            ]
          },
          "metadata": {},
          "execution_count": 88
        }
      ]
    },
    {
      "cell_type": "code",
      "source": [
        "ipl_df_data.columns"
      ],
      "metadata": {
        "colab": {
          "base_uri": "https://localhost:8080/"
        },
        "id": "PptzRpEz0MKq",
        "outputId": "c36961ec-8685-497d-8ac4-d3003685728a"
      },
      "execution_count": 59,
      "outputs": [
        {
          "output_type": "execute_result",
          "data": {
            "text/plain": [
              "Index(['index', 'season', 'id', 'name', 'short_name', 'description',\n",
              "       'home_team', 'away_team', 'toss_won', 'decision', '1st_inning_score',\n",
              "       '2nd_inning_score', 'home_score', 'away_score', 'winner', 'result',\n",
              "       'start_date', 'end_date', 'venue_id', 'venue_name', 'home_captain',\n",
              "       'away_captain', 'pom', 'points', 'super_over', 'home_overs',\n",
              "       'home_runs', 'home_wickets', 'home_boundaries', 'away_overs',\n",
              "       'away_runs', 'away_wickets', 'away_boundaries', 'highlights',\n",
              "       'home_key_batsman', 'home_key_bowler', 'home_playx1', 'away_playx1',\n",
              "       'away_key_batsman', 'away_key_bowler', 'match_days', 'umpire1',\n",
              "       'umpire2', 'tv_umpire', 'referee', 'reserve_umpire',\n",
              "       'home_team_wins_flag', 'toss_wins_flag', 'win',\n",
              "       'head_to_head_win_percentage', 'venue_win_percentage', 'toss_winner',\n",
              "       'toss_win_percentage', 'bat_first', 'bowl_first',\n",
              "       'bat_first_win_percentage', 'bowl_first_win_percentage',\n",
              "       'seasonal_win_percentage', 'team', 'avg_runs_last_3',\n",
              "       'avg_wickets_last_3', 'avg_runrate_last_3'],\n",
              "      dtype='object')"
            ]
          },
          "metadata": {},
          "execution_count": 59
        }
      ]
    },
    {
      "cell_type": "code",
      "source": [
        "tf = ipl_df_data[['head_to_head_win_percentage','venue_win_percentage','toss_win_percentage','seasonal_win_percentage','bat_first_win_percentage','bowl_first_win_percentage','win']]"
      ],
      "metadata": {
        "id": "nNbzLIOBFFMH"
      },
      "execution_count": 79,
      "outputs": []
    },
    {
      "cell_type": "code",
      "source": [
        "tf = tf.fillna(0)"
      ],
      "metadata": {
        "id": "H6jKCImUu-xN"
      },
      "execution_count": 80,
      "outputs": []
    },
    {
      "cell_type": "code",
      "source": [
        "from sklearn.model_selection import train_test_split\n",
        "\n",
        "X = tf.drop('win', axis=1)\n",
        "y = tf['win']\n",
        "\n",
        "# Split the data into training and test sets (80% - 20%)\n",
        "X_train, X_test, y_train, y_test = train_test_split(X, y, test_size=0.2, random_state=42)\n"
      ],
      "metadata": {
        "colab": {
          "base_uri": "https://localhost:8080/"
        },
        "id": "H_GOXjwyiBlt",
        "outputId": "f38e1cfd-55a5-44c9-eb8e-b639a8a4af83"
      },
      "execution_count": 82,
      "outputs": [
        {
          "output_type": "stream",
          "name": "stdout",
          "text": [
            "Model Accuracy:  0.4947916666666667\n"
          ]
        }
      ]
    },
    {
      "cell_type": "code",
      "source": [
        "from sklearn.linear_model import LogisticRegression\n",
        "\n",
        "model = LogisticRegression()\n",
        "\n",
        "model.fit(X_train, y_train)\n",
        "\n",
        "print(\"Model Accuracy: \", model.score(X_test, y_test))\n"
      ],
      "metadata": {
        "colab": {
          "base_uri": "https://localhost:8080/"
        },
        "id": "GWDVTug4j4tn",
        "outputId": "f81bd82a-0656-4791-e672-ace6165c8f34"
      },
      "execution_count": 83,
      "outputs": [
        {
          "output_type": "stream",
          "name": "stdout",
          "text": [
            "Model Accuracy:  0.546875\n"
          ]
        }
      ]
    },
    {
      "cell_type": "code",
      "source": [
        "from sklearn.svm import SVC\n",
        "\n",
        "model = SVC()\n",
        "\n",
        "model.fit(X_train, y_train)\n",
        "\n",
        "print(\"Model Accuracy: \", model.score(X_test, y_test))\n"
      ],
      "metadata": {
        "colab": {
          "base_uri": "https://localhost:8080/"
        },
        "id": "pxTisvbWUKkj",
        "outputId": "23cdedd9-de5a-439f-fe66-1c9646bbb04a"
      },
      "execution_count": 86,
      "outputs": [
        {
          "output_type": "stream",
          "name": "stdout",
          "text": [
            "Model Accuracy:  0.53125\n"
          ]
        }
      ]
    },
    {
      "cell_type": "code",
      "source": [
        "from sklearn.tree import DecisionTreeClassifier\n",
        "\n",
        "# Initialize Decision Tree Classifier\n",
        "model = DecisionTreeClassifier()\n",
        "\n",
        "# Fit the model on the training data\n",
        "model.fit(X_train, y_train)\n",
        "\n",
        "# Print the accuracy on the test set\n",
        "print(\"Decision Tree Model Accuracy: \", model.score(X_test, y_test))\n"
      ],
      "metadata": {
        "colab": {
          "base_uri": "https://localhost:8080/"
        },
        "id": "mn_WVIArUNHr",
        "outputId": "38be98af-8be7-4e25-f25c-d5ef33cbff40"
      },
      "execution_count": 87,
      "outputs": [
        {
          "output_type": "stream",
          "name": "stdout",
          "text": [
            "Decision Tree Model Accuracy:  0.5\n"
          ]
        }
      ]
    },
    {
      "cell_type": "code",
      "source": [
        "from sklearn.ensemble import RandomForestClassifier\n",
        "\n",
        "model = RandomForestClassifier()\n",
        "\n",
        "model.fit(X_train, y_train)\n",
        "\n",
        "print(\"Model Accuracy: \", model.score(X_test, y_test))\n"
      ],
      "metadata": {
        "colab": {
          "base_uri": "https://localhost:8080/"
        },
        "id": "_R2jLbXiqQ7i",
        "outputId": "ecf5cb63-4d4e-433c-8c95-c865d85db722"
      },
      "execution_count": 85,
      "outputs": [
        {
          "output_type": "stream",
          "name": "stdout",
          "text": [
            "Model Accuracy:  0.5052083333333334\n"
          ]
        }
      ]
    },
    {
      "cell_type": "code",
      "source": [
        "from sklearn.linear_model import LogisticRegression\n",
        "from sklearn.model_selection import GridSearchCV\n",
        "\n",
        "# Initialize Logistic Regression\n",
        "log_reg = LogisticRegression()\n",
        "\n",
        "# Specify parameter grid\n",
        "param_grid = {'C': [0.001, 0.01, 0.1, 1, 10, 100, 1000],\n",
        "              'penalty': ['l1', 'l2']}\n",
        "\n",
        "# Create Grid Search object\n",
        "clf = GridSearchCV(log_reg, param_grid)\n",
        "\n",
        "# Fit the model on the training data\n",
        "clf.fit(X_train, y_train)\n",
        "\n",
        "# Print the best parameters and accuracy on the test set\n",
        "print(\"Best parameters for Logistic Regression: \", clf.best_params_)\n",
        "print(\"Logistic Regression Accuracy: \", clf.score(X_test, y_test))\n"
      ],
      "metadata": {
        "colab": {
          "base_uri": "https://localhost:8080/"
        },
        "id": "UQgfUXTlv6BR",
        "outputId": "80492bb8-0344-4eb7-9a2c-299a9cc6f1cf"
      },
      "execution_count": 72,
      "outputs": [
        {
          "output_type": "stream",
          "name": "stdout",
          "text": [
            "Best parameters for Logistic Regression:  {'C': 1, 'penalty': 'l2'}\n",
            "Logistic Regression Accuracy:  0.578125\n"
          ]
        }
      ]
    },
    {
      "cell_type": "code",
      "source": [],
      "metadata": {
        "id": "gHKwVwC99DOD"
      },
      "execution_count": null,
      "outputs": []
    }
  ]
}